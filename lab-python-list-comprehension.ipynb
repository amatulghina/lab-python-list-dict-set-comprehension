{
 "cells": [
  {
   "cell_type": "markdown",
   "id": "c605fa2f",
   "metadata": {},
   "source": [
    "# Lab | List, Dict and Set Comprehension"
   ]
  },
  {
   "cell_type": "markdown",
   "id": "794493f9",
   "metadata": {},
   "source": [
    "## Exercise: Managing Customer Orders Optimized with Comprehension"
   ]
  },
  {
   "cell_type": "markdown",
   "id": "d5a27adc",
   "metadata": {},
   "source": [
    "In the previous exercise, you developed a program to manage customer orders and inventory. Now, let's take it a step further and incorporate comprehension into your code.\n",
    "\n",
    "Follow the steps below to complete the exercise:\n",
    "\n",
    "1. Review your code from the previous exercise and identify areas where you can apply comprehension to simplify and streamline your code. \n",
    "\n",
    "    - *Hint: Apply it to initialize inventory, updating the inventory and printing the updated inventory.*\n",
    "    \n",
    "    - For example, in initializing the inventory, we could have:\n",
    "    \n",
    "        ```python\n",
    "        def initialize_inventory(products):\n",
    "            inventory = {product: int(input(f\"Enter the quantity of {product}s available: \")) for product in products}\n",
    "            return inventory\n",
    "\n",
    "        ```\n",
    "<br>\n",
    "    \n",
    "    \n",
    "2. Modify the function get_customer_orders so it prompts the user to enter the number of customer orders and gathers the product names using a loop and user input. Use comprehension.\n",
    "\n",
    "3. Add a new function to calculate the total price of the customer order. For each product in customer_orders, prompt the user to enter the price of that product. Use comprehension to calculate the total price. Note: assume that the user can only have 1 unit of each product.\n",
    "\n",
    "4. Modify the update_inventory function to remove the product from the inventory if its quantity becomes zero after fulfilling the customer orders. Use comprehension to filter out the products with a quantity of zero from the inventory.\n",
    "\n",
    "5. Print the total price of the customer order.\n",
    "\n",
    "Your code should produce output similar to the following:\n",
    "\n",
    "```python\n",
    "Enter the quantity of t-shirts available:  5\n",
    "Enter the quantity of mugs available:  4\n",
    "Enter the quantity of hats available:  3\n",
    "Enter the quantity of books available:  2\n",
    "Enter the quantity of keychains available:  1\n",
    "Enter the number of customer orders:  2\n",
    "Enter the name of a product that a customer wants to order:  hat\n",
    "Enter the name of a product that a customer wants to order:  keychain\n",
    "\n",
    "Order Statistics:\n",
    "Total Products Ordered: 2\n",
    "Percentage of Unique Products Ordered: 40.0\n",
    "\n",
    "Updated Inventory:\n",
    "t-shirt: 5\n",
    "mug: 4\n",
    "hat: 2\n",
    "book: 2\n",
    "Enter the price of keychain:  5\n",
    "Enter the price of hat:  10\n",
    "Total Price: 15.0\n",
    "\n",
    "```\n"
   ]
  },
  {
   "cell_type": "code",
   "execution_count": 51,
   "id": "3a33f4fc",
   "metadata": {},
   "outputs": [],
   "source": [
    "products = [\"t-shirt\", \"mug\", \"hat\", \"book\", \"keychain\"]"
   ]
  },
  {
   "cell_type": "code",
   "execution_count": 52,
   "id": "aa12cf4c",
   "metadata": {},
   "outputs": [
    {
     "name": "stdin",
     "output_type": "stream",
     "text": [
      "Enter the quantity of t-shirts available: 50\n",
      "Enter the quantity of mugs available: 60\n",
      "Enter the quantity of hats available: 70\n",
      "Enter the quantity of books available: 80\n",
      "Enter the quantity of keychains available: 90\n"
     ]
    }
   ],
   "source": [
    "# 1\n",
    "def initialize_inventory(products):\n",
    "    inventory = {product: int(input(f\"Enter the quantity of {product}s available:\")) for product in products}\n",
    "    return inventory\n",
    "\n",
    "inventory=initialize_inventory(products)"
   ]
  },
  {
   "cell_type": "code",
   "execution_count": 53,
   "id": "735b1f82",
   "metadata": {},
   "outputs": [
    {
     "name": "stdin",
     "output_type": "stream",
     "text": [
      "What do you want to order? Mug\n",
      "Do you want to add another product? (Yes/No) yes\n",
      "What do you want to order? HAT\n",
      "Do you want to add another product? (Yes/No) yes\n",
      "What do you want to order? Keychain\n",
      "Do you want to add another product? (Yes/No) NO\n"
     ]
    },
    {
     "name": "stdout",
     "output_type": "stream",
     "text": [
      "Thank you for your orders!\n"
     ]
    }
   ],
   "source": [
    "# 2\n",
    "\n",
    "def get_customer_orders():\n",
    "    customer_orders = set()\n",
    "    order_again = \"yes\"\n",
    "    while order_again == \"yes\" :\n",
    "        order = input(\"What do you want to order?\").strip().lower()\n",
    "        customer_orders.add(order)\n",
    "        order_again = input(\"Do you want to add another product? (Yes/No)\").strip().lower()\n",
    "        if order_again == \"no\":\n",
    "            print(\"Thank you for your orders!\")\n",
    "    return customer_orders\n",
    "\n",
    "customer_orders = get_customer_orders()\n",
    "\n",
    "def calculate_order_statistics(customer_orders,products):\n",
    "    total_products_ordered = len(customer_orders)\n",
    "    percentage_products_ordered =  int(len(customer_orders)/len(products)*100)\n",
    "    return total_products_ordered, percentage_products_ordered\n",
    "\n",
    "order_statistics = calculate_order_statistics(customer_orders,products)"
   ]
  },
  {
   "cell_type": "code",
   "execution_count": 54,
   "id": "0dba7971-997a-456d-a6aa-7b06e89a6a61",
   "metadata": {},
   "outputs": [
    {
     "name": "stdin",
     "output_type": "stream",
     "text": [
      "Price of keychain: 0.60\n",
      "Price of hat: 1.50\n",
      "Price of mug: 3.0\n"
     ]
    },
    {
     "name": "stdout",
     "output_type": "stream",
     "text": [
      "Total price of the total customer orders: 5.1\n"
     ]
    }
   ],
   "source": [
    "# 3 & 5\n",
    " \n",
    "# Add a new function to calculate the total price of the customer order.\n",
    "# For each product in customer_orders, prompt the user to enter the price of that product.\n",
    "# Use comprehension to calculate the total price.\n",
    "# Note: assume that the user can only have 1 unit of each product.\n",
    "\n",
    "def calc_total_price(customer_order):\n",
    "    price = {item: float(input(f\"Price of {item}:\")) for item in customer_orders}    \n",
    "    total_price = sum(price.values())\n",
    "    return total_price\n",
    "\n",
    "total_price = calc_total_price(customer_orders)\n",
    "print(\"Total price of the total customer orders:\",total_price)"
   ]
  },
  {
   "cell_type": "code",
   "execution_count": 79,
   "id": "398d80a2-54c6-4b24-916d-a06b776c0a5c",
   "metadata": {},
   "outputs": [
    {
     "name": "stdout",
     "output_type": "stream",
     "text": [
      "Updated inventory:\n",
      "Quantity of t-shirt: 50\n",
      "Quantity of mug: 59\n",
      "Quantity of hat: 69\n",
      "Quantity of book: 80\n",
      "Quantity of keychain: 89\n"
     ]
    }
   ],
   "source": [
    "# 4\n",
    "\n",
    "# Modify the update_inventory function to remove the product from the inventory if its quantity becomes zero after fulfilling the customer orders.\n",
    "# Use comprehension to filter out the products with a quantity of zero from the inventory.\n",
    "\n",
    "def update_inventory(customer_orders,inventory):\n",
    "    inventory = {product: (inventory[product]-1 if product in customer_orders else inventory[product]) for product in inventory}\n",
    "    return inventory\n",
    "\n",
    "updated_inventory = update_inventory(customer_orders,inventory)\n",
    "\n",
    "def print_updated_inventory(inventory):\n",
    "    print(\"Updated inventory:\")\n",
    "    for key, value in inventory.items():\n",
    "        print(f\"Quantity of {key}:\",value)\n",
    "        \n",
    "print_updated_inventory(updated_inventory)"
   ]
  }
 ],
 "metadata": {
  "kernelspec": {
   "display_name": "Python 3",
   "language": "python",
   "name": "python3"
  },
  "language_info": {
   "codemirror_mode": {
    "name": "ipython",
    "version": 3
   },
   "file_extension": ".py",
   "mimetype": "text/x-python",
   "name": "python",
   "nbconvert_exporter": "python",
   "pygments_lexer": "ipython3",
   "version": "3.8.8"
  }
 },
 "nbformat": 4,
 "nbformat_minor": 5
}
